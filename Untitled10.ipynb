{
  "nbformat": 4,
  "nbformat_minor": 0,
  "metadata": {
    "colab": {
      "name": "Untitled10.ipynb",
      "provenance": [],
      "authorship_tag": "ABX9TyM9x0saeWBA0+SJouk7bi7U",
      "include_colab_link": true
    },
    "kernelspec": {
      "name": "python3",
      "display_name": "Python 3"
    },
    "language_info": {
      "name": "python"
    }
  },
  "cells": [
    {
      "cell_type": "markdown",
      "metadata": {
        "id": "view-in-github",
        "colab_type": "text"
      },
      "source": [
        "<a href=\"https://colab.research.google.com/github/dlguswns3820/hanyang/blob/main/Untitled10.ipynb\" target=\"_parent\"><img src=\"https://colab.research.google.com/assets/colab-badge.svg\" alt=\"Open In Colab\"/></a>"
      ]
    },
    {
      "cell_type": "code",
      "execution_count": 4,
      "metadata": {
        "colab": {
          "base_uri": "https://localhost:8080/"
        },
        "id": "QgeH_P8J_06m",
        "outputId": "74abe2cc-c333-4390-a490-e25b9973f05b"
      },
      "outputs": [
        {
          "output_type": "stream",
          "name": "stdout",
          "text": [
            "삼성전자 = 50000\n",
            "500000\n"
          ]
        }
      ],
      "source": [
        "#1\n",
        "삼성전자 = 50000\n",
        "print(\"삼성전자 =\",삼성전자)\n",
        "평가금액  = 삼성전자 * 10\n",
        "print(평가금액)"
      ]
    },
    {
      "cell_type": "code",
      "source": [
        "#2\n",
        "year = \"2020\"\n",
        "print(\"year =\",year)\n",
        "print(type(year))\n",
        "print(int(year) - 1)\n",
        "print(int(year) - 2)\n",
        "print(int(year) - 3)"
      ],
      "metadata": {
        "colab": {
          "base_uri": "https://localhost:8080/"
        },
        "id": "GW9Bn-qpKYS1",
        "outputId": "1fe134af-8f4c-456e-8b94-6c44d20ed5a7"
      },
      "execution_count": 22,
      "outputs": [
        {
          "output_type": "stream",
          "name": "stdout",
          "text": [
            "year = 2020\n",
            "<class 'str'>\n",
            "2019\n",
            "2018\n",
            "2017\n"
          ]
        }
      ]
    },
    {
      "cell_type": "code",
      "source": [
        "#3\n",
        "string = \"홀짝홀짝홀짝\"\n",
        "print(string[0:5:2])"
      ],
      "metadata": {
        "colab": {
          "base_uri": "https://localhost:8080/"
        },
        "id": "O1RuIpeTNAyW",
        "outputId": "53675ed7-7f94-4635-a273-c8d8e17a1689"
      },
      "execution_count": 90,
      "outputs": [
        {
          "output_type": "stream",
          "name": "stdout",
          "text": [
            "홀홀홀\n"
          ]
        }
      ]
    },
    {
      "cell_type": "code",
      "source": [
        "#4\n",
        "string = \"PYTHON\"\n",
        "print(string[-1:-7:-1])"
      ],
      "metadata": {
        "colab": {
          "base_uri": "https://localhost:8080/"
        },
        "id": "xcSvmiBlN1KO",
        "outputId": "d0a7dac8-d155-4353-f90c-7c5a70fbcfb9"
      },
      "execution_count": 88,
      "outputs": [
        {
          "output_type": "stream",
          "name": "stdout",
          "text": [
            "NOHTYP\n"
          ]
        }
      ]
    },
    {
      "cell_type": "code",
      "source": [
        "#5\n",
        "movie_rank = ['닥터 스트레인지','스플릿','럭키','베트맨']\n",
        "movie_rank.insert(1,'슈퍼맨')\n",
        "movie_rank"
      ],
      "metadata": {
        "colab": {
          "base_uri": "https://localhost:8080/"
        },
        "id": "ebHCY2vGO8Z6",
        "outputId": "e71bb4c9-7c47-4abf-da18-a1cb7c048d93"
      },
      "execution_count": 60,
      "outputs": [
        {
          "output_type": "execute_result",
          "data": {
            "text/plain": [
              "['닥터 스트레인지', '슈퍼맨', '스플릿', '럭키', '베트맨']"
            ]
          },
          "metadata": {},
          "execution_count": 60
        }
      ]
    },
    {
      "cell_type": "code",
      "source": [
        "#6\n",
        "nums = [1,2,3,4,5,6,7,8,9,10]\n",
        "print(nums[0:10:2])"
      ],
      "metadata": {
        "colab": {
          "base_uri": "https://localhost:8080/"
        },
        "id": "WsRNjWNvQbN-",
        "outputId": "a94cf63f-c031-4404-bbab-d2bef7510042"
      },
      "execution_count": 91,
      "outputs": [
        {
          "output_type": "stream",
          "name": "stdout",
          "text": [
            "[1, 3, 5, 7, 9]\n"
          ]
        }
      ]
    },
    {
      "cell_type": "code",
      "source": [
        "#7\n",
        "data = [2,4,3,1,5,10,9]\n",
        "data.sort()\n",
        "data"
      ],
      "metadata": {
        "colab": {
          "base_uri": "https://localhost:8080/"
        },
        "id": "cKaxhtkkSrhr",
        "outputId": "ec9fd9c9-18f1-48fd-e776-edb923a1c75c"
      },
      "execution_count": 95,
      "outputs": [
        {
          "output_type": "execute_result",
          "data": {
            "text/plain": [
              "[1, 2, 3, 4, 5, 9, 10]"
            ]
          },
          "metadata": {},
          "execution_count": 95
        }
      ]
    },
    {
      "cell_type": "code",
      "source": [
        "#8\n",
        "name1 = \"김민수\"\n",
        "age1 = \"10\"\n",
        "name2 = \"이철희\"\n",
        "age2 = \"13\"\n",
        "print(\"name1 =\",name1)\n",
        "print(\"age1 =\",age1)\n",
        "print(\"name2 =\",name2)\n",
        "print(\"age2 =\",age2)\n",
        "\n",
        "s = \"이름:{} 나이:{}\"\n",
        "print(s.format(name1,age1))\n",
        "print(s.format(name2,age2))\n",
        "#print(\"%d\",age2)"
      ],
      "metadata": {
        "colab": {
          "base_uri": "https://localhost:8080/"
        },
        "id": "hsfFruz-TNEt",
        "outputId": "ec80cb7d-76e4-402f-ec63-4013579d4d6e"
      },
      "execution_count": 107,
      "outputs": [
        {
          "output_type": "stream",
          "name": "stdout",
          "text": [
            "name1 = 김민수\n",
            "age1 = 10\n",
            "name2 = 이철희\n",
            "age2 = 13\n",
            "이름:김민수 나이:10\n",
            "%d 13\n"
          ]
        }
      ]
    }
  ]
}